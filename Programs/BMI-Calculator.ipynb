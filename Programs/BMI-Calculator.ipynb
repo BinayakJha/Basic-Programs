{
 "cells": [
  {
   "cell_type": "code",
   "execution_count": 1,
   "id": "dutch-special",
   "metadata": {},
   "outputs": [
    {
     "name": "stdout",
     "output_type": "stream",
     "text": [
      "Enter your height in centimeters: 182\n",
      "Enter your Weight in Kg: 75\n",
      "your Body Mass Index is:  22.6421929718633\n",
      "you are Healthy\n"
     ]
    }
   ],
   "source": [
    "while True:\n",
    "   Height=float(input(\"Enter your height in centimeters: \"))\n",
    "   Weight=float(input(\"Enter your Weight in Kg: \"))\n",
    "   Height = Height/100\n",
    "   BMI=Weight/(Height*Height)\n",
    "   print(\"your Body Mass Index is: \",BMI)\n",
    "   if(BMI>0):\n",
    "        if(BMI<=16):\n",
    "            print(\"you are severely underweight\")\n",
    "       elif(BMI<=18.5):\n",
    "            print(\"you are underweight\")\n",
    "       elif(BMI<=25):\n",
    "            print(\"you are Healthy\")\n",
    "       elif(BMI<=30):\n",
    "            print(\"you are overweight\")\n",
    "       else: print(\"you are severely overweight\")\n",
    "   else:(\"enter valid details\")"
   ]
  }
 ],
 "metadata": {
  "kernelspec": {
   "display_name": "Python 3",
   "language": "python",
   "name": "python3"
  },
  "language_info": {
   "codemirror_mode": {
    "name": "ipython",
    "version": 3
   },
   "file_extension": ".py",
   "mimetype": "text/x-python",
   "name": "python",
   "nbconvert_exporter": "python",
   "pygments_lexer": "ipython3",
   "version": "3.8.8"
  }
 },
 "nbformat": 4,
 "nbformat_minor": 5
}
